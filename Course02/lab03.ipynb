{
 "cells": [
  {
   "cell_type": "markdown",
   "id": "fafb45f6",
   "metadata": {},
   "source": [
    "# Convolutional Neural Networks in TensorFlow Week03\n",
    "\n",
    "Transfer Learning\n",
    "\n",
    "- 내가 가지고 있는 데이터셋은 너무 적고, 다른 사람이 이미 학습시킨 모델을 가져다 쓰고 싶을 때\n",
    "- 웬만한 모델들은 케라스에 다 내장되어 있고, weight 만 다운로드 받아서 전체 혹은 일부를 로드해서 쓸 수 있음\n",
    "\n",
    "Dropout\n",
    "\n",
    "- 랜덤하게 일부 뉴런은 제외하고 학습 시킴\n",
    "- 일부 뉴런에 웨이트가 몰리게 되면 오버피팅 가능성이 높아지기 때문"
   ]
  },
  {
   "cell_type": "markdown",
   "id": "3f6da79c-35c0-45ef-be12-0e7dbe9ebeae",
   "metadata": {},
   "source": [
    "[inceptionv3 웨이트 다운로드](https://storage.googleapis.com/mledu-datasets/inception_v3_weights_tf_dim_ordering_tf_kernels_notop.h5)"
   ]
  },
  {
   "cell_type": "code",
   "execution_count": 1,
   "id": "d8afde72-c95b-4b81-aa36-6411f183e67b",
   "metadata": {},
   "outputs": [],
   "source": [
    "import os\n",
    "\n",
    "from tensorflow.keras import layers\n",
    "from tensorflow.keras import Model"
   ]
  },
  {
   "cell_type": "code",
   "execution_count": 2,
   "id": "621d0c05-c7f6-4c10-9170-f90258e3c316",
   "metadata": {},
   "outputs": [],
   "source": [
    "from tensorflow.keras.applications.inception_v3 import InceptionV3"
   ]
  },
  {
   "cell_type": "code",
   "execution_count": 3,
   "id": "6394e49f-21c7-4b8f-8ad9-a598cbb9f721",
   "metadata": {},
   "outputs": [
    {
     "name": "stdout",
     "output_type": "stream",
     "text": [
      "last layer output shape:  (None, 7, 7, 768)\n"
     ]
    }
   ],
   "source": [
    "local_weights_file = '../datasets/inception_v3_weights_tf_dim_ordering_tf_kernels_notop.h5'\n",
    "\n",
    "pre_trained_model = InceptionV3(input_shape = (150, 150, 3), \n",
    "                                include_top = False, \n",
    "                                weights = None)\n",
    "\n",
    "pre_trained_model.load_weights(local_weights_file)\n",
    "\n",
    "for layer in pre_trained_model.layers:\n",
    "  layer.trainable = False\n",
    "  \n",
    "# pre_trained_model.summary()\n",
    "\n",
    "last_layer = pre_trained_model.get_layer('mixed7')\n",
    "print('last layer output shape: ', last_layer.output_shape)\n",
    "last_output = last_layer.output"
   ]
  },
  {
   "cell_type": "markdown",
   "id": "3463cc73-c0a5-4281-b817-091d67a305fb",
   "metadata": {},
   "source": [
    "- `layer.trainable`을 통해 학습을 시킬지 안시킬지 선택할 수 있음\n",
    "- 내가 원하는 부분까지만 가져올 수 있음. 여기선 `mixed7` 레이어까지만 가져옴"
   ]
  },
  {
   "cell_type": "code",
   "execution_count": 4,
   "id": "eeedaa27-9e7f-46e8-859d-18bba94b4c84",
   "metadata": {},
   "outputs": [],
   "source": [
    "from tensorflow.keras.optimizers import RMSprop\n",
    "\n",
    "# Flatten the output layer to 1 dimension\n",
    "x = layers.Flatten()(last_output)\n",
    "# Add a fully connected layer with 1,024 hidden units and ReLU activation\n",
    "x = layers.Dense(1024, activation='relu')(x)\n",
    "# Add a dropout rate of 0.2\n",
    "x = layers.Dropout(0.2)(x)                  \n",
    "# Add a final sigmoid layer for classification\n",
    "x = layers.Dense  (1, activation='sigmoid')(x)           \n",
    "\n",
    "model = Model( pre_trained_model.input, x) \n",
    "\n",
    "model.compile(optimizer = RMSprop(lr=0.0001), \n",
    "              loss = 'binary_crossentropy', \n",
    "              metrics = ['accuracy'])"
   ]
  },
  {
   "cell_type": "code",
   "execution_count": 5,
   "id": "18f685c0-1adb-465b-a83c-713e9774c208",
   "metadata": {},
   "outputs": [
    {
     "name": "stdout",
     "output_type": "stream",
     "text": [
      "Found 2000 images belonging to 2 classes.\n",
      "Found 1000 images belonging to 2 classes.\n"
     ]
    }
   ],
   "source": [
    "from tensorflow.keras.preprocessing.image import ImageDataGenerator\n",
    "\n",
    "# Define our example directories and files\n",
    "base_dir = '../datasets/cats_and_dogs_filtered'\n",
    "\n",
    "train_dir = os.path.join( base_dir, 'train')\n",
    "validation_dir = os.path.join( base_dir, 'validation')\n",
    "\n",
    "\n",
    "train_cats_dir = os.path.join(train_dir, 'cats') # Directory with our training cat pictures\n",
    "train_dogs_dir = os.path.join(train_dir, 'dogs') # Directory with our training dog pictures\n",
    "validation_cats_dir = os.path.join(validation_dir, 'cats') # Directory with our validation cat pictures\n",
    "validation_dogs_dir = os.path.join(validation_dir, 'dogs')# Directory with our validation dog pictures\n",
    "\n",
    "train_cat_fnames = os.listdir(train_cats_dir)\n",
    "train_dog_fnames = os.listdir(train_dogs_dir)\n",
    "\n",
    "# Add our data-augmentation parameters to ImageDataGenerator\n",
    "train_datagen = ImageDataGenerator(rescale = 1./255.,\n",
    "                                   rotation_range = 40,\n",
    "                                   width_shift_range = 0.2,\n",
    "                                   height_shift_range = 0.2,\n",
    "                                   shear_range = 0.2,\n",
    "                                   zoom_range = 0.2,\n",
    "                                   horizontal_flip = True)\n",
    "\n",
    "# Note that the validation data should not be augmented!\n",
    "test_datagen = ImageDataGenerator( rescale = 1.0/255. )\n",
    "\n",
    "# Flow training images in batches of 20 using train_datagen generator\n",
    "train_generator = train_datagen.flow_from_directory(train_dir,\n",
    "                                                    batch_size = 20,\n",
    "                                                    class_mode = 'binary', \n",
    "                                                    target_size = (150, 150))     \n",
    "\n",
    "# Flow validation images in batches of 20 using test_datagen generator\n",
    "validation_generator =  test_datagen.flow_from_directory( validation_dir,\n",
    "                                                          batch_size  = 20,\n",
    "                                                          class_mode  = 'binary', \n",
    "                                                          target_size = (150, 150))"
   ]
  },
  {
   "cell_type": "code",
   "execution_count": 6,
   "id": "0a863f84-de8f-4a1c-8f26-cb356ea3f4b6",
   "metadata": {},
   "outputs": [
    {
     "name": "stdout",
     "output_type": "stream",
     "text": [
      "Epoch 1/20\n",
      "100/100 - 14s - loss: 0.3725 - accuracy: 0.8545 - val_loss: 0.1249 - val_accuracy: 0.9480\n",
      "Epoch 2/20\n",
      "100/100 - 12s - loss: 0.2165 - accuracy: 0.9125 - val_loss: 0.1070 - val_accuracy: 0.9640\n",
      "Epoch 3/20\n",
      "100/100 - 12s - loss: 0.2104 - accuracy: 0.9230 - val_loss: 0.1278 - val_accuracy: 0.9560\n",
      "Epoch 4/20\n",
      "100/100 - 12s - loss: 0.1898 - accuracy: 0.9340 - val_loss: 0.1101 - val_accuracy: 0.9600\n",
      "Epoch 5/20\n",
      "100/100 - 12s - loss: 0.1639 - accuracy: 0.9400 - val_loss: 0.1730 - val_accuracy: 0.9420\n",
      "Epoch 6/20\n",
      "100/100 - 13s - loss: 0.1941 - accuracy: 0.9310 - val_loss: 0.1106 - val_accuracy: 0.9710\n",
      "Epoch 7/20\n",
      "100/100 - 14s - loss: 0.1560 - accuracy: 0.9450 - val_loss: 0.0908 - val_accuracy: 0.9720\n",
      "Epoch 8/20\n",
      "100/100 - 13s - loss: 0.1653 - accuracy: 0.9415 - val_loss: 0.1020 - val_accuracy: 0.9710\n",
      "Epoch 9/20\n",
      "100/100 - 14s - loss: 0.1541 - accuracy: 0.9465 - val_loss: 0.1527 - val_accuracy: 0.9590\n",
      "Epoch 10/20\n",
      "100/100 - 13s - loss: 0.1594 - accuracy: 0.9460 - val_loss: 0.1122 - val_accuracy: 0.9680\n",
      "Epoch 11/20\n",
      "100/100 - 12s - loss: 0.1863 - accuracy: 0.9400 - val_loss: 0.0965 - val_accuracy: 0.9700\n",
      "Epoch 12/20\n",
      "100/100 - 13s - loss: 0.1655 - accuracy: 0.9420 - val_loss: 0.1068 - val_accuracy: 0.9670\n",
      "Epoch 13/20\n",
      "100/100 - 13s - loss: 0.1406 - accuracy: 0.9470 - val_loss: 0.1117 - val_accuracy: 0.9690\n",
      "Epoch 14/20\n",
      "100/100 - 12s - loss: 0.1482 - accuracy: 0.9480 - val_loss: 0.1060 - val_accuracy: 0.9690\n",
      "Epoch 15/20\n",
      "100/100 - 12s - loss: 0.1243 - accuracy: 0.9615 - val_loss: 0.1077 - val_accuracy: 0.9700\n",
      "Epoch 16/20\n",
      "100/100 - 12s - loss: 0.1317 - accuracy: 0.9525 - val_loss: 0.1900 - val_accuracy: 0.9530\n",
      "Epoch 17/20\n",
      "100/100 - 12s - loss: 0.1188 - accuracy: 0.9575 - val_loss: 0.1445 - val_accuracy: 0.9630\n",
      "Epoch 18/20\n",
      "100/100 - 12s - loss: 0.1218 - accuracy: 0.9570 - val_loss: 0.1181 - val_accuracy: 0.9740\n",
      "Epoch 19/20\n",
      "100/100 - 13s - loss: 0.1284 - accuracy: 0.9605 - val_loss: 0.1180 - val_accuracy: 0.9740\n",
      "Epoch 20/20\n",
      "100/100 - 13s - loss: 0.1189 - accuracy: 0.9585 - val_loss: 0.1799 - val_accuracy: 0.9540\n"
     ]
    }
   ],
   "source": [
    "history = model.fit(\n",
    "            train_generator,\n",
    "            validation_data = validation_generator,\n",
    "            steps_per_epoch = 100,\n",
    "            epochs = 20,\n",
    "            validation_steps = 50,\n",
    "            verbose = 2)"
   ]
  },
  {
   "cell_type": "code",
   "execution_count": 7,
   "id": "f5d9bfb1-6484-48a9-b532-53bab317f0b7",
   "metadata": {},
   "outputs": [
    {
     "data": {
      "image/png": "[encoded data removed]",
      "text/plain": [
       "<Figure size 432x288 with 1 Axes>"
      ]
     },
     "metadata": {
      "needs_background": "light"
     },
     "output_type": "display_data"
    },
    {
     "data": {
      "text/plain": [
       "<Figure size 432x288 with 0 Axes>"
      ]
     },
     "metadata": {},
     "output_type": "display_data"
    }
   ],
   "source": [
    "import matplotlib.pyplot as plt\n",
    "acc = history.history['accuracy']\n",
    "val_acc = history.history['val_accuracy']\n",
    "loss = history.history['loss']\n",
    "val_loss = history.history['val_loss']\n",
    "\n",
    "epochs = range(len(acc))\n",
    "\n",
    "plt.plot(epochs, acc, 'r', label='Training accuracy')\n",
    "plt.plot(epochs, val_acc, 'b', label='Validation accuracy')\n",
    "plt.title('Training and validation accuracy')\n",
    "plt.legend(loc=0)\n",
    "plt.figure()\n",
    "\n",
    "\n",
    "plt.show()"
   ]
  }
 ],
 "metadata": {
  "kernelspec": {
   "display_name": "Python 3",
   "language": "python",
   "name": "python3"
  },
  "language_info": {
   "codemirror_mode": {
    "name": "ipython",
    "version": 3
   },
   "file_extension": ".py",
   "mimetype": "text/x-python",
   "name": "python",
   "nbconvert_exporter": "python",
   "pygments_lexer": "ipython3",
   "version": "3.8.8"
  }
 },
 "nbformat": 4,
 "nbformat_minor": 5
}
