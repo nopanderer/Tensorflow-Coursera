{
 "cells": [
  {
   "cell_type": "markdown",
   "id": "70f030de",
   "metadata": {},
   "source": [
    "# Introduction to TensorFlow for Artificial Intelligence, Machine Learning, and Deep Learning LAB 03\n",
    "\n",
    "CNN을 활용한 학습\n",
    "\n",
    "- 이전에 본 DNN 보다 더 효율적으로 학습\n",
    "- 모든 픽셀을 다 보지 않고, 필터를 이용해 중요한 부분에 집중함\n",
    "- convolution(필터링) + pooling(압축)\n",
    "\n",
    "CNN의 핵심은 컴퓨터가 학습해야 할 정보의 양을 conv와 pooling을 통해 질 좋게 압축"
   ]
  },
  {
   "cell_type": "code",
   "execution_count": 1,
   "id": "51c90745",
   "metadata": {},
   "outputs": [],
   "source": [
    "import tensorflow as tf\n",
    "import numpy as np"
   ]
  },
  {
   "cell_type": "code",
   "execution_count": 2,
   "id": "0492c31e",
   "metadata": {},
   "outputs": [],
   "source": [
    "mnist = tf.keras.datasets.fashion_mnist"
   ]
  },
  {
   "cell_type": "code",
   "execution_count": 3,
   "id": "7c26161f",
   "metadata": {},
   "outputs": [],
   "source": [
    "(training_images, training_labels), (test_images, test_labels) = mnist.load_data()"
   ]
  },
  {
   "cell_type": "code",
   "execution_count": 15,
   "id": "fc4f21aa",
   "metadata": {},
   "outputs": [],
   "source": [
    "training_images = training_images.reshape(60000, 28, 28, 1)\n",
    "test_images = test_images.reshape(10000, 28, 28, 1)"
   ]
  },
  {
   "cell_type": "code",
   "execution_count": 16,
   "id": "5b884304",
   "metadata": {},
   "outputs": [],
   "source": [
    "training_images = training_images / 255.0\n",
    "test_images = test_images / 255.0"
   ]
  },
  {
   "cell_type": "code",
   "execution_count": 47,
   "id": "6aee816d",
   "metadata": {},
   "outputs": [],
   "source": [
    "class MyCallBack(tf.keras.callbacks.Callback):\n",
    "    def on_epoch_end(self, epoch, logs={}):\n",
    "        if logs.get('loss') < 0.4:\n",
    "            print(\"\\nEnd\")\n",
    "            self.model.stop_training=True"
   ]
  },
  {
   "cell_type": "code",
   "execution_count": 48,
   "id": "99ed4ddb",
   "metadata": {},
   "outputs": [],
   "source": [
    "callbacks=MyCallBack()"
   ]
  },
  {
   "cell_type": "code",
   "execution_count": 53,
   "id": "cb9b35a0",
   "metadata": {},
   "outputs": [],
   "source": [
    "model = tf.keras.models.Sequential([\n",
    "    tf.keras.layers.Conv2D(32, (3,3), activation='relu', input_shape=(28, 28, 1)),\n",
    "    tf.keras.layers.MaxPooling2D(2,2),\n",
    "    tf.keras.layers.Flatten(),\n",
    "    tf.keras.layers.Dense(128, activation='relu'),\n",
    "    tf.keras.layers.Dense(10, activation='softmax')\n",
    "])"
   ]
  },
  {
   "cell_type": "markdown",
   "id": "97495e51",
   "metadata": {},
   "source": [
    "밑에 3개의 레이어는 이전과 동일\n",
    "\n",
    "**convolution**: 첫번째 Conv2D 레이어는 3 by 3 짜리 64개의 필터에, 입력값은 28 by 28, 흑백이기 때문에 마지막에 color depth 로 1이 들어감\n",
    "\n",
    "**pooling**: MaxPooling 은 필터중에 가장 큰 값을 선택\n",
    "\n",
    "두 번의 pooling을 통해 이미지 크기는 작아지고 단순해짐"
   ]
  },
  {
   "cell_type": "code",
   "execution_count": 26,
   "id": "4b9803cb",
   "metadata": {},
   "outputs": [
    {
     "name": "stdout",
     "output_type": "stream",
     "text": [
      "Model: \"sequential_2\"\n",
      "_________________________________________________________________\n",
      "Layer (type)                 Output Shape              Param #   \n",
      "=================================================================\n",
      "conv2d_4 (Conv2D)            (None, 26, 26, 16)        160       \n",
      "_________________________________________________________________\n",
      "max_pooling2d_4 (MaxPooling2 (None, 13, 13, 16)        0         \n",
      "_________________________________________________________________\n",
      "conv2d_5 (Conv2D)            (None, 11, 11, 16)        2320      \n",
      "_________________________________________________________________\n",
      "max_pooling2d_5 (MaxPooling2 (None, 5, 5, 16)          0         \n",
      "_________________________________________________________________\n",
      "flatten_2 (Flatten)          (None, 400)               0         \n",
      "_________________________________________________________________\n",
      "dense_4 (Dense)              (None, 128)               51328     \n",
      "_________________________________________________________________\n",
      "dense_5 (Dense)              (None, 10)                1290      \n",
      "=================================================================\n",
      "Total params: 55,098\n",
      "Trainable params: 55,098\n",
      "Non-trainable params: 0\n",
      "_________________________________________________________________\n"
     ]
    }
   ],
   "source": [
    "model.summary()"
   ]
  },
  {
   "cell_type": "markdown",
   "id": "a8f5572e",
   "metadata": {},
   "source": [
    "첫번째 레이어가 26 by 26 인 이유는 필터가 3,3이기 때문에 가장자리는 잘리기 때문\n",
    "\n",
    "두번째 레이어(Pooling)에서 2 by 2 로 pooling 하기 때문에 반으로 줄어들었음"
   ]
  },
  {
   "cell_type": "code",
   "execution_count": 54,
   "id": "b19710a7",
   "metadata": {},
   "outputs": [],
   "source": [
    "model.compile(optimizer='adam', loss='sparse_categorical_crossentropy', metrics=['accuracy'])"
   ]
  },
  {
   "cell_type": "code",
   "execution_count": 56,
   "id": "45343faf",
   "metadata": {},
   "outputs": [
    {
     "name": "stdout",
     "output_type": "stream",
     "text": [
      "Epoch 1/10\n",
      "1875/1875 [==============================] - 3s 1ms/step - loss: 0.4105 - accuracy: 0.8543\n",
      "Epoch 2/10\n",
      "1861/1875 [============================>.] - ETA: 0s - loss: 0.3963 - accuracy: 0.8590\n",
      "End\n",
      "1875/1875 [==============================] - 2s 1ms/step - loss: 0.3958 - accuracy: 0.8593\n"
     ]
    },
    {
     "data": {
      "text/plain": [
       "<tensorflow.python.keras.callbacks.History at 0x18d3b8aaac0>"
      ]
     },
     "execution_count": 56,
     "metadata": {},
     "output_type": "execute_result"
    }
   ],
   "source": [
    "model.fit(training_images, training_labels, epochs=10, callbacks=callbacks)"
   ]
  },
  {
   "cell_type": "code",
   "execution_count": 57,
   "id": "96a86ed8",
   "metadata": {},
   "outputs": [
    {
     "name": "stdout",
     "output_type": "stream",
     "text": [
      "313/313 [==============================] - 0s 1ms/step - loss: 0.4257 - accuracy: 0.8471\n"
     ]
    },
    {
     "data": {
      "text/plain": [
       "[0.4256698787212372, 0.847100019454956]"
      ]
     },
     "execution_count": 57,
     "metadata": {},
     "output_type": "execute_result"
    }
   ],
   "source": [
    "model.evaluate(test_images, test_labels)"
   ]
  }
 ],
 "metadata": {
  "kernelspec": {
   "display_name": "Python 3",
   "language": "python",
   "name": "python3"
  },
  "language_info": {
   "codemirror_mode": {
    "name": "ipython",
    "version": 3
   },
   "file_extension": ".py",
   "mimetype": "text/x-python",
   "name": "python",
   "nbconvert_exporter": "python",
   "pygments_lexer": "ipython3",
   "version": "3.8.8"
  }
 },
 "nbformat": 4,
 "nbformat_minor": 5
}
