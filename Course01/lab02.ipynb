{
 "cells": [
  {
   "cell_type": "markdown",
   "id": "70f030de",
   "metadata": {},
   "source": [
    "# Introduction to TensorFlow for Artificial Intelligence, Machine Learning, and Deep Learning LAB 02\n",
    "\n",
    "fashion_mnist 데이터로 간단한 딥러닝\n",
    "\n",
    "- 28 by 28 grayscale 이미지\n",
    "- 각 픽셀 값은 [0, 255]\n",
    "- 총 10개의 카테고리"
   ]
  },
  {
   "cell_type": "code",
   "execution_count": 1,
   "id": "51c90745",
   "metadata": {},
   "outputs": [],
   "source": [
    "import tensorflow as tf\n",
    "import numpy as np"
   ]
  },
  {
   "cell_type": "code",
   "execution_count": 2,
   "id": "0492c31e",
   "metadata": {},
   "outputs": [],
   "source": [
    "mnist = tf.keras.datasets.fashion_mnist"
   ]
  },
  {
   "cell_type": "code",
   "execution_count": 3,
   "id": "7c26161f",
   "metadata": {},
   "outputs": [],
   "source": [
    "(training_images, training_labels), (test_images, test_labels) = mnist.load_data()"
   ]
  },
  {
   "cell_type": "markdown",
   "id": "9f3417ab",
   "metadata": {},
   "source": [
    "[0, 255] 값이 있는 데이터를 [0.0, 1.0] 로 정규화 해주기"
   ]
  },
  {
   "cell_type": "code",
   "execution_count": 4,
   "id": "5b884304",
   "metadata": {},
   "outputs": [],
   "source": [
    "training_images = training_images / 255.0\n",
    "test_images = test_images / 255.0"
   ]
  },
  {
   "cell_type": "code",
   "execution_count": 5,
   "id": "cb9b35a0",
   "metadata": {},
   "outputs": [],
   "source": [
    "model = tf.keras.models.Sequential([\n",
    "    tf.keras.layers.Flatten(),\n",
    "    tf.keras.layers.Dense(128, activation=tf.nn.relu),\n",
    "    tf.keras.layers.Dense(10, activation=tf.nn.softmax)\n",
    "])"
   ]
  },
  {
   "cell_type": "markdown",
   "id": "97495e51",
   "metadata": {},
   "source": [
    "**Sequential**: 신경망에 레이어들을 선형으로 연결\n",
    "\n",
    "**Flatten**: 입력값을 1차원 배열로 펼침\n",
    "\n",
    "**Dense**: 보통 히든 레이어에 사용. 가중치를 포함. activation function 을 필요로 함\n",
    "\n",
    "**Relu**: X가 0보다 크면 X를 출력 그외는 0 출력\n",
    "\n",
    "**Softmax**: 출력값에 대해서 정규화를 해 줌. classification 에서 사용. 결과값의 합은 언제나 1.0"
   ]
  },
  {
   "cell_type": "markdown",
   "id": "531fd15b",
   "metadata": {},
   "source": [
    "callback 함수를 이용해서 원하는 조건에 학습을 중단할 수 있음"
   ]
  },
  {
   "cell_type": "code",
   "execution_count": 6,
   "id": "210ff95c",
   "metadata": {},
   "outputs": [],
   "source": [
    "class MyCallBack(tf.keras.callbacks.Callback):\n",
    "    def on_epoch_end(self, epoch, logs={}):\n",
    "        if logs.get('loss') < 0.4:\n",
    "            print(\"\\nReached 60% acc\")\n",
    "            self.model.stop_training=True"
   ]
  },
  {
   "cell_type": "code",
   "execution_count": 7,
   "id": "55b606fe",
   "metadata": {},
   "outputs": [],
   "source": [
    "callbacks= MyCallBack()"
   ]
  },
  {
   "cell_type": "code",
   "execution_count": 8,
   "id": "94aafc1d",
   "metadata": {},
   "outputs": [
    {
     "name": "stdout",
     "output_type": "stream",
     "text": [
      "Epoch 1/30\n",
      "1875/1875 [==============================] - 2s 881us/step - loss: 0.4958 - accuracy: 0.8262\n",
      "Epoch 2/30\n",
      "1854/1875 [============================>.] - ETA: 0s - loss: 0.3735 - accuracy: 0.8652\n",
      "Reached 60% acc\n",
      "1875/1875 [==============================] - 2s 877us/step - loss: 0.3732 - accuracy: 0.8655\n"
     ]
    },
    {
     "data": {
      "text/plain": [
       "<tensorflow.python.keras.callbacks.History at 0x22360cfe9a0>"
      ]
     },
     "execution_count": 8,
     "metadata": {},
     "output_type": "execute_result"
    }
   ],
   "source": [
    "model.compile(\n",
    "    optimizer=tf.optimizers.Adam(),\n",
    "    loss='sparse_categorical_crossentropy',\n",
    "    metrics=['accuracy']\n",
    ")\n",
    "model.fit(training_images, training_labels, epochs=30, callbacks=[callbacks])"
   ]
  },
  {
   "cell_type": "code",
   "execution_count": 9,
   "id": "4b9803cb",
   "metadata": {},
   "outputs": [
    {
     "name": "stdout",
     "output_type": "stream",
     "text": [
      "313/313 [==============================] - 0s 948us/step - loss: 0.4046 - accuracy: 0.8521\n"
     ]
    },
    {
     "data": {
      "text/plain": [
       "[0.40460264682769775, 0.8521000146865845]"
      ]
     },
     "execution_count": 9,
     "metadata": {},
     "output_type": "execute_result"
    }
   ],
   "source": [
    "model.evaluate(test_images, test_labels)"
   ]
  }
 ],
 "metadata": {
  "kernelspec": {
   "display_name": "Python 3",
   "language": "python",
   "name": "python3"
  },
  "language_info": {
   "codemirror_mode": {
    "name": "ipython",
    "version": 3
   },
   "file_extension": ".py",
   "mimetype": "text/x-python",
   "name": "python",
   "nbconvert_exporter": "python",
   "pygments_lexer": "ipython3",
   "version": "3.8.8"
  }
 },
 "nbformat": 4,
 "nbformat_minor": 5
}
